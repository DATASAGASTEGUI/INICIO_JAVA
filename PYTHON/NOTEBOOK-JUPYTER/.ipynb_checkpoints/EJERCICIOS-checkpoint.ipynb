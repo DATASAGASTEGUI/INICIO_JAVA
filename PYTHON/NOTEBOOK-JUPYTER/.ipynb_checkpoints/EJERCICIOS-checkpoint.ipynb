{
 "cells": [
  {
   "cell_type": "markdown",
   "id": "12d6481f",
   "metadata": {},
   "source": [
    "<center><span style=\"color:red; font-size:30px\">EJERCICIOS FOR</span></center>"
   ]
  },
  {
   "cell_type": "markdown",
   "id": "a55d13b4",
   "metadata": {},
   "source": [
    "<span style=\"color:blue; font-size:20px\">\n",
    "EJERCICIO 01\n",
    "</span>"
   ]
  },
  {
   "cell_type": "markdown",
   "id": "8142047c",
   "metadata": {},
   "source": [
    "<div class=text-justify>\n",
    "Escribir un programa que pida al usuario un número entero positivo mayor que 2 y muestre por pantalla si es un número primo o no.\n",
    "</div>"
   ]
  },
  {
   "cell_type": "code",
   "execution_count": 36,
   "id": "24725262",
   "metadata": {},
   "outputs": [
    {
     "name": "stdout",
     "output_type": "stream",
     "text": [
      "Ingrese numero entero positivo mayor a 2? 9\n",
      "No Primo\n"
     ]
    }
   ],
   "source": [
    "# JESUS\n",
    "\n",
    "def n_primo (num):\n",
    "    bandera = True\n",
    "    for n in range(2,num):\n",
    "        if num % n == 0: \n",
    "           bandera = False\n",
    "    if bandera == False:\n",
    "       print('No Primo')\n",
    "    else:\n",
    "       print('Primo')\n",
    "        \n",
    "n = numeroEnteroPositivoMayor2('Ingrese numero entero positivo mayor a 2? ') \n",
    "n_primo(n)"
   ]
  },
  {
   "cell_type": "code",
   "execution_count": null,
   "id": "e4da5c42",
   "metadata": {},
   "outputs": [],
   "source": [
    "def n_primo2(num):\n",
    "    bool = True\n",
    "    for n in range(2,num):\n",
    "        if num % n == 0:\n",
    "            print(\"Número no primo\")\n",
    "            bool = False\n",
    "            return bool\n",
    "    print('El número es primo')\n",
    "    return bool\n",
    "\n",
    "n = numeroEnteroPositivoMayor2('Ingrese numero entero positivo mayor a 2? ') \n",
    "n_primo2(n)    "
   ]
  },
  {
   "cell_type": "code",
   "execution_count": null,
   "id": "206066ce",
   "metadata": {},
   "outputs": [],
   "source": [
    "# LENA\n",
    "n = numeroEnteroPositivoMayor2(\"Ingrese un número entero positivo? \")\n",
    "print(n)\n",
    "\n",
    "divisible = 0\n",
    "for i in range(2, n):\n",
    "    if n % i == 0:\n",
    "        divisible += 1 # divisible = divisible + 1\n",
    "\n",
    "if divisible == 0:\n",
    "    print(\"El número es primo\")\n",
    "else:\n",
    "    print(\"El número no es primo\")\n"
   ]
  },
  {
   "cell_type": "markdown",
   "id": "349eeb41",
   "metadata": {},
   "source": [
    "<span style=\"color:blue; font-size:20px\">\n",
    "EJERCICIO 02\n",
    "</span>"
   ]
  },
  {
   "cell_type": "markdown",
   "id": "229b1c3f",
   "metadata": {},
   "source": [
    "<div class=text-justify>\n",
    "Dibujar un árbol de navidad de altura n, que será ingresado por teclado y será un número entero positivo. Por ejemplo, si ingresamos en n=10 el resultado será el siguiente árbol\n",
    "<br/>\n",
    "\n",
    "<pre>\n",
    "         *\n",
    "        ***\n",
    "       *****\n",
    "      *******\n",
    "     *********\n",
    "    ***********\n",
    "   *************\n",
    "  ***************\n",
    " *****************\n",
    "*******************\n",
    "</pre>"
   ]
  },
  {
   "cell_type": "code",
   "execution_count": 32,
   "id": "6a1aca10",
   "metadata": {},
   "outputs": [
    {
     "name": "stdout",
     "output_type": "stream",
     "text": [
      "21\n",
      "          *\n",
      "         ***\n",
      "        *****\n",
      "       *******\n",
      "      *********\n",
      "     ***********\n",
      "    *************\n",
      "   ***************\n",
      "  *****************\n",
      " *******************\n",
      "*********************\n"
     ]
    }
   ],
   "source": [
    "n = 11\n",
    "j = 1\n",
    "#  u = a + (n-1)r\n",
    "u = 1 + (n-1)*2\n",
    "e = u // 2\n",
    "print(u)\n",
    "for i in range(1,n+1,1):\n",
    "    print(' '*e + '*'*j)\n",
    "    j = j + 2\n",
    "    e = e - 1\n",
    "    "
   ]
  },
  {
   "cell_type": "code",
   "execution_count": 26,
   "id": "9a56ffd2",
   "metadata": {},
   "outputs": [
    {
     "name": "stdout",
     "output_type": "stream",
     "text": [
      "aaaaa\n"
     ]
    }
   ],
   "source": [
    "print('a'*5)"
   ]
  },
  {
   "cell_type": "markdown",
   "id": "0166db1a",
   "metadata": {},
   "source": [
    "<span style=\"color:blue; font-size:20px\">\n",
    "EJERCICIO 03\n",
    "</span>"
   ]
  },
  {
   "cell_type": "markdown",
   "id": "eeb8c51a",
   "metadata": {},
   "source": [
    "<div class=text-justify>\n",
    "Ingresar una cadena por teclado y se mostrá en pantalla la impresión de la cadena como se muestra abajo que es un ejemplo de la cadena HolaMundo.\n",
    "</div>"
   ]
  },
  {
   "cell_type": "code",
   "execution_count": null,
   "id": "d55bc369",
   "metadata": {},
   "outputs": [],
   "source": [
    "<pre>\n",
    "H\n",
    "Ho\n",
    "Hol\n",
    "Hola\n",
    "HolaM\n",
    "HolaMu\n",
    "HolaMun\n",
    "HolaMund\n",
    "HolaMundo\n",
    "</pre>"
   ]
  },
  {
   "cell_type": "code",
   "execution_count": 22,
   "id": "f1f262d1",
   "metadata": {},
   "outputs": [
    {
     "name": "stdout",
     "output_type": "stream",
     "text": [
      "\n",
      "S\n",
      "Se\n",
      "Seb\n",
      "Seba\n",
      "Sebas\n",
      "Sebast\n",
      "Sebasti\n",
      "Sebastia\n",
      "Sebastian\n"
     ]
    }
   ],
   "source": [
    "cadena = 'Sebastian'\n",
    "longitud = len(cadena) + 1\n",
    "for i in range(longitud):\n",
    "    print(cadena[0:i]) # 1, 2, 3   cadena[0:1]  cadena[0:2]   9 = 0..8"
   ]
  },
  {
   "cell_type": "markdown",
   "id": "24b0e421",
   "metadata": {},
   "source": [
    "<span style=\"color:blue; font-size:20px\">\n",
    "LIBRERIA\n",
    "</span>"
   ]
  },
  {
   "cell_type": "code",
   "execution_count": 1,
   "id": "ec26f89c",
   "metadata": {},
   "outputs": [],
   "source": [
    "import re\n",
    "def numeroEnteroPositivoMayor2(mensaje): \n",
    "    patron = '[0-9]+'\n",
    "    while True:\n",
    "          cadena = input(mensaje)\n",
    "          correcto = bool(re.fullmatch(patron,cadena)) and int(cadena) > 2\n",
    "          if not correcto:\n",
    "             print(\"Error: Vuelva a ingresar el dato\")\n",
    "          else:\n",
    "             break\n",
    "    return int(cadena)\n",
    "\n",
    "def numeroEntero(mensaje): \n",
    "    #patron = '-[0-9]+'\n",
    "    patron = \"-[0-9]+||[0-9]+\"\n",
    "    while True:\n",
    "          cadena = input(mensaje)\n",
    "          correcto = re.fullmatch(patron,cadena)\n",
    "          if not correcto:\n",
    "             print(\"Error: Vuelva a ingresar el dato\")\n",
    "          else:\n",
    "             break\n",
    "    return int(cadena) "
   ]
  },
  {
   "cell_type": "markdown",
   "id": "f9750a17",
   "metadata": {},
   "source": [
    "<span style=\"color:blue; font-size:20px\">\n",
    "EJERCICIO 04\n",
    "</span>"
   ]
  },
  {
   "cell_type": "code",
   "execution_count": null,
   "id": "03c3f937",
   "metadata": {},
   "outputs": [],
   "source": [
    "# Obtener los primeros 100 números primos\n",
    "\n",
    "for i in ()"
   ]
  }
 ],
 "metadata": {
  "kernelspec": {
   "display_name": "Python 3 (ipykernel)",
   "language": "python",
   "name": "python3"
  },
  "language_info": {
   "codemirror_mode": {
    "name": "ipython",
    "version": 3
   },
   "file_extension": ".py",
   "mimetype": "text/x-python",
   "name": "python",
   "nbconvert_exporter": "python",
   "pygments_lexer": "ipython3",
   "version": "3.9.12"
  }
 },
 "nbformat": 4,
 "nbformat_minor": 5
}
